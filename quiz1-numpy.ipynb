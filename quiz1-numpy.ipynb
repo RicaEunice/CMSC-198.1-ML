{
 "cells": [
  {
   "cell_type": "markdown",
   "id": "b1861824",
   "metadata": {},
   "source": [
    "# Quiz1 - Numpy\n",
    "## Submitted by: Rica Eunice L. Dordas "
   ]
  },
  {
   "cell_type": "markdown",
   "id": "a3d28697",
   "metadata": {},
   "source": [
    "#### Part 1."
   ]
  },
  {
   "cell_type": "code",
   "execution_count": 40,
   "id": "24e8aa8f",
   "metadata": {},
   "outputs": [],
   "source": [
    "import numpy as np"
   ]
  },
  {
   "cell_type": "markdown",
   "id": "59d4fe41",
   "metadata": {},
   "source": [
    "NumPy Package will be imported and referred to as np."
   ]
  },
  {
   "cell_type": "code",
   "execution_count": 41,
   "id": "c2ec6f29",
   "metadata": {},
   "outputs": [
    {
     "data": {
      "text/plain": [
       "array([-1.        , -0.89473684, -0.78947368, -0.68421053, -0.57894737,\n",
       "       -0.47368421, -0.36842105, -0.26315789, -0.15789474, -0.05263158,\n",
       "        0.05263158,  0.15789474,  0.26315789,  0.36842105,  0.47368421,\n",
       "        0.57894737,  0.68421053,  0.78947368,  0.89473684,  1.        ])"
      ]
     },
     "execution_count": 41,
     "metadata": {},
     "output_type": "execute_result"
    }
   ],
   "source": [
    "y_hat = np.linspace(-1, 1, num=20)\n",
    "y_hat"
   ]
  },
  {
   "cell_type": "markdown",
   "id": "b8d2a380",
   "metadata": {},
   "source": [
    "y_hat is an initialized array with 20 linearly spaced numbers between -1 and 1."
   ]
  },
  {
   "cell_type": "code",
   "execution_count": 42,
   "id": "3bbad3c8",
   "metadata": {},
   "outputs": [
    {
     "data": {
      "text/plain": [
       "array([0.        , 0.05263158, 0.10526316, 0.15789474, 0.21052632,\n",
       "       0.26315789, 0.31578947, 0.36842105, 0.42105263, 0.47368421,\n",
       "       0.52631579, 0.57894737, 0.63157895, 0.68421053, 0.73684211,\n",
       "       0.78947368, 0.84210526, 0.89473684, 0.94736842, 1.        ])"
      ]
     },
     "execution_count": 42,
     "metadata": {},
     "output_type": "execute_result"
    }
   ],
   "source": [
    "y = np.linspace(0, 1, num= 20)\n",
    "y"
   ]
  },
  {
   "cell_type": "markdown",
   "id": "f5df1f68",
   "metadata": {},
   "source": [
    "y is an initialized array with 20 linearly spaced numbers between 0 and 1."
   ]
  },
  {
   "cell_type": "code",
   "execution_count": 43,
   "id": "fd997e94",
   "metadata": {},
   "outputs": [
    {
     "data": {
      "text/plain": [
       "(20,)"
      ]
     },
     "execution_count": 43,
     "metadata": {},
     "output_type": "execute_result"
    }
   ],
   "source": [
    "y_hat.shape"
   ]
  },
  {
   "cell_type": "markdown",
   "id": "ae94c682",
   "metadata": {},
   "source": [
    "y_hat has 20 rows with only 1 column."
   ]
  },
  {
   "cell_type": "code",
   "execution_count": 44,
   "id": "6f72789c",
   "metadata": {},
   "outputs": [
    {
     "data": {
      "text/plain": [
       "(20,)"
      ]
     },
     "execution_count": 44,
     "metadata": {},
     "output_type": "execute_result"
    }
   ],
   "source": [
    "y.shape"
   ]
  },
  {
   "cell_type": "markdown",
   "id": "7fa9b694",
   "metadata": {},
   "source": [
    "y has 20 rows with only 1 column."
   ]
  },
  {
   "cell_type": "code",
   "execution_count": 45,
   "id": "9c818c47",
   "metadata": {},
   "outputs": [
    {
     "data": {
      "text/plain": [
       "1"
      ]
     },
     "execution_count": 45,
     "metadata": {},
     "output_type": "execute_result"
    }
   ],
   "source": [
    "y_hat.ndim"
   ]
  },
  {
   "cell_type": "markdown",
   "id": "d9553c53",
   "metadata": {},
   "source": [
    "y_hat has a dimension of 1 which states that it is a 1D array."
   ]
  },
  {
   "cell_type": "code",
   "execution_count": 46,
   "id": "900b349f",
   "metadata": {},
   "outputs": [
    {
     "data": {
      "text/plain": [
       "1"
      ]
     },
     "execution_count": 46,
     "metadata": {},
     "output_type": "execute_result"
    }
   ],
   "source": [
    "y.ndim"
   ]
  },
  {
   "cell_type": "markdown",
   "id": "67360383",
   "metadata": {},
   "source": [
    "y has a dimension of 1 which states that it is a 1D array."
   ]
  },
  {
   "cell_type": "code",
   "execution_count": 47,
   "id": "4929c1b5",
   "metadata": {},
   "outputs": [
    {
     "data": {
      "text/plain": [
       "0.3421052631578948"
      ]
     },
     "execution_count": 47,
     "metadata": {},
     "output_type": "execute_result"
    }
   ],
   "source": [
    "def MSE (y, y_hat):\n",
    "    return np.square(y-y_hat).mean()\n",
    "\n",
    "MSE(y,y_hat)"
   ]
  },
  {
   "cell_type": "markdown",
   "id": "f0fd84f5",
   "metadata": {},
   "source": [
    "The Mean Squared Error with y and y_hat as parameters is 0.3421052631578948."
   ]
  },
  {
   "cell_type": "code",
   "execution_count": 48,
   "id": "fe690b22",
   "metadata": {},
   "outputs": [
    {
     "data": {
      "text/plain": [
       "0.4999999999999999"
      ]
     },
     "execution_count": 48,
     "metadata": {},
     "output_type": "execute_result"
    }
   ],
   "source": [
    "def MAE (y, y_hat):\n",
    "    return np.abs(y_hat-y).mean()\n",
    "\n",
    "MAE(y,y_hat)"
   ]
  },
  {
   "cell_type": "markdown",
   "id": "c859fbda",
   "metadata": {},
   "source": [
    "The Mean Absolute Error with y and y_hat as parameters is 0.4999999999999999."
   ]
  },
  {
   "cell_type": "code",
   "execution_count": 49,
   "id": "28479425",
   "metadata": {},
   "outputs": [
    {
     "name": "stderr",
     "output_type": "stream",
     "text": [
      "C:\\Users\\Rica Eunice\\AppData\\Local\\Temp\\ipykernel_23104\\1654995694.py:2: RuntimeWarning: divide by zero encountered in log\n",
      "  return np.square((np.log(y_hat+1)-np.log(y+1)))\n"
     ]
    },
    {
     "data": {
      "text/plain": [
       "array([           inf, 5.30189811e+00, 2.74972035e+00, 1.68813627e+00,\n",
       "       1.11524725e+00, 7.66445510e-01, 5.38710750e-01, 3.83209542e-01,\n",
       "       2.73788620e-01, 1.95216181e-01, 1.38059476e-01, 9.61960796e-02,\n",
       "       6.55018920e-02, 4.31141058e-02, 2.69954927e-02, 1.56658124e-02,\n",
       "       8.03033899e-03, 3.26708427e-03, 7.50703787e-04, 0.00000000e+00])"
      ]
     },
     "execution_count": 49,
     "metadata": {},
     "output_type": "execute_result"
    }
   ],
   "source": [
    "def MSLE (y, y_hat):\n",
    "    return np.square((np.log(y_hat+1)-np.log(y+1)))\n",
    "\n",
    "MSLE(y,y_hat)"
   ]
  },
  {
   "cell_type": "markdown",
   "id": "d2f0f858",
   "metadata": {},
   "source": [
    "The Mean Squared Logarithmic Error with y and y_hat as parameters cannot be computed since y has the value of 0 which leads to an error since it cannot be a divisor."
   ]
  },
  {
   "cell_type": "code",
   "execution_count": 50,
   "id": "82efa481",
   "metadata": {},
   "outputs": [
    {
     "name": "stderr",
     "output_type": "stream",
     "text": [
      "C:\\Users\\Rica Eunice\\AppData\\Local\\Temp\\ipykernel_23104\\1419580328.py:2: RuntimeWarning: divide by zero encountered in true_divide\n",
      "  return (np.abs((y_hat-y)/y).mean())*100\n"
     ]
    },
    {
     "data": {
      "text/plain": [
       "inf"
      ]
     },
     "execution_count": 50,
     "metadata": {},
     "output_type": "execute_result"
    }
   ],
   "source": [
    "def MAPE (y, y_hat):\n",
    "    return (np.abs((y_hat-y)/y).mean())*100\n",
    "\n",
    "MAPE(y,y_hat)"
   ]
  },
  {
   "cell_type": "markdown",
   "id": "c17462c5",
   "metadata": {},
   "source": [
    "The Mean Absolute Percentage Error with y and y_hat as parameters cannot be computed since y has the value of 0 which leads to an error since it cannot be a divisor."
   ]
  },
  {
   "cell_type": "markdown",
   "id": "01e48f43",
   "metadata": {},
   "source": [
    "#### Part 2."
   ]
  },
  {
   "cell_type": "code",
   "execution_count": 51,
   "id": "1bbd03cf",
   "metadata": {},
   "outputs": [
    {
     "data": {
      "text/plain": [
       "array([ 1,  2,  3,  4,  5,  6,  7,  8,  9, 10, 11, 12, 13, 14, 15, 16])"
      ]
     },
     "execution_count": 51,
     "metadata": {},
     "output_type": "execute_result"
    }
   ],
   "source": [
    "M = np.arange(1, 17)\n",
    "M"
   ]
  },
  {
   "cell_type": "markdown",
   "id": "61ec2044",
   "metadata": {},
   "source": [
    "arange function is used to create an array ranges 1-16."
   ]
  },
  {
   "cell_type": "code",
   "execution_count": 52,
   "id": "329b9ca9",
   "metadata": {},
   "outputs": [
    {
     "data": {
      "text/plain": [
       "array([[ 1,  2,  3,  4],\n",
       "       [ 5,  6,  7,  8],\n",
       "       [ 9, 10, 11, 12],\n",
       "       [13, 14, 15, 16]])"
      ]
     },
     "execution_count": 52,
     "metadata": {},
     "output_type": "execute_result"
    }
   ],
   "source": [
    "N = M.reshape(4,4)\n",
    "N"
   ]
  },
  {
   "cell_type": "markdown",
   "id": "1ab16877",
   "metadata": {},
   "source": [
    "reshape array is used to change the shape of an array. In this number, since the array has 16 values, it can be equally reshaped to 4 rows and 4 columns."
   ]
  },
  {
   "cell_type": "code",
   "execution_count": 53,
   "id": "e45877f5",
   "metadata": {},
   "outputs": [
    {
     "data": {
      "text/plain": [
       "array([5, 6, 7, 8])"
      ]
     },
     "execution_count": 53,
     "metadata": {},
     "output_type": "execute_result"
    }
   ],
   "source": [
    "N[1]"
   ]
  },
  {
   "cell_type": "markdown",
   "id": "6e4e0173",
   "metadata": {},
   "source": [
    "N[i] where i is the index of the row you want to get the values from. Since we want to get the 2nd row, we will use N[1] where 1 is the index of the 2nd row."
   ]
  },
  {
   "cell_type": "code",
   "execution_count": 54,
   "id": "da7b3d6d",
   "metadata": {},
   "outputs": [
    {
     "data": {
      "text/plain": [
       "array([1, 2, 3, 4])"
      ]
     },
     "execution_count": 54,
     "metadata": {},
     "output_type": "execute_result"
    }
   ],
   "source": [
    "np.min(N, axis=0)"
   ]
  },
  {
   "cell_type": "markdown",
   "id": "068411d6",
   "metadata": {},
   "source": [
    "min function is used to get the miniumum value for each column/row. Since we need to find the min value for each column, we will assign the axis to 0. The min values of each column are 1, 2, 3, and 4. "
   ]
  },
  {
   "cell_type": "code",
   "execution_count": 55,
   "id": "30e45eb1",
   "metadata": {},
   "outputs": [
    {
     "data": {
      "text/plain": [
       "array([0, 0, 0, 0], dtype=int64)"
      ]
     },
     "execution_count": 55,
     "metadata": {},
     "output_type": "execute_result"
    }
   ],
   "source": [
    "np.argmin(N, axis=0)"
   ]
  },
  {
   "cell_type": "markdown",
   "id": "10ba5ec1",
   "metadata": {},
   "source": [
    "argmin is used to find the location which is the index of the min values. Since all min values for each column are located in the 1st row, their location is 0."
   ]
  },
  {
   "cell_type": "code",
   "execution_count": 56,
   "id": "786e13ac",
   "metadata": {},
   "outputs": [
    {
     "data": {
      "text/plain": [
       "8.5"
      ]
     },
     "execution_count": 56,
     "metadata": {},
     "output_type": "execute_result"
    }
   ],
   "source": [
    "np.mean(N)"
   ]
  },
  {
   "cell_type": "markdown",
   "id": "535111be",
   "metadata": {},
   "source": [
    "mean function is used to find the average of the whole matrix. For matrix N, the mean is 8.5."
   ]
  },
  {
   "cell_type": "code",
   "execution_count": 57,
   "id": "a37ac0f7",
   "metadata": {},
   "outputs": [
    {
     "data": {
      "text/plain": [
       "array([1, 1, 1, 1])"
      ]
     },
     "execution_count": 57,
     "metadata": {},
     "output_type": "execute_result"
    }
   ],
   "source": [
    "V = np.array([1,1,1,1])\n",
    "V"
   ]
  },
  {
   "cell_type": "markdown",
   "id": "657cd100",
   "metadata": {},
   "source": [
    "A vector can be created through a 1d array. Vector V was created with the 4 values which are all 1."
   ]
  },
  {
   "cell_type": "code",
   "execution_count": 58,
   "id": "3c1d1b2b",
   "metadata": {},
   "outputs": [
    {
     "data": {
      "text/plain": [
       "array([10, 26, 42, 58])"
      ]
     },
     "execution_count": 58,
     "metadata": {},
     "output_type": "execute_result"
    }
   ],
   "source": [
    "np.dot(N, V)"
   ]
  },
  {
   "cell_type": "markdown",
   "id": "6e6ce331",
   "metadata": {},
   "source": [
    "For the dot product of a matrix and vector, each row of the matrix will be multiplied to a corresponding value in the vector then get the sum of all the product. For example the values of the 1st row of the matrix are 1, 2, 3, and 4. These values will all be multiplied to 1 since these are the values of the vector. Then, all of the products will be added."
   ]
  }
 ],
 "metadata": {
  "kernelspec": {
   "display_name": "Python 3 (ipykernel)",
   "language": "python",
   "name": "python3"
  },
  "language_info": {
   "codemirror_mode": {
    "name": "ipython",
    "version": 3
   },
   "file_extension": ".py",
   "mimetype": "text/x-python",
   "name": "python",
   "nbconvert_exporter": "python",
   "pygments_lexer": "ipython3",
   "version": "3.9.12"
  }
 },
 "nbformat": 4,
 "nbformat_minor": 5
}
